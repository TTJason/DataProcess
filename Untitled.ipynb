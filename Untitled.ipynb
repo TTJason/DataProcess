{
 "cells": [
  {
   "cell_type": "code",
   "execution_count": 1,
   "metadata": {
    "collapsed": true
   },
   "outputs": [],
   "source": [
    "import pandas as pd\n",
    "from ltp_model import *\n",
    "import pymysql\n",
    "import time\n",
    "from pyltp import SentenceSplitter"
   ]
  },
  {
   "cell_type": "code",
   "execution_count": 2,
   "metadata": {
    "collapsed": true
   },
   "outputs": [],
   "source": [
    "LTP_DATA_DIR = '/Users/sivber/Desktop/NLP_DATA/ltp_data'\n",
    "segmentor = get_segmentor(LTP_DATA_DIR)\n",
    "postagger = get_postagger(LTP_DATA_DIR)\n",
    "recognizer = get_recognizer(LTP_DATA_DIR)\n",
    "parser = get_parser(LTP_DATA_DIR)\n",
    "labeller = get_labeller(LTP_DATA_DIR)"
   ]
  },
  {
   "cell_type": "code",
   "execution_count": 3,
   "metadata": {
    "collapsed": true
   },
   "outputs": [],
   "source": [
    "def get_ltp_model(text):\n",
    "    return LTPModel(text,\n",
    "                     segmentor,\n",
    "                     postagger,\n",
    "                     recognizer,\n",
    "                     parser,\n",
    "                     labeller\n",
    "                     )"
   ]
  },
  {
   "cell_type": "code",
   "execution_count": 12,
   "metadata": {
    "collapsed": true
   },
   "outputs": [],
   "source": [
    "conn = pymysql.connect(user='root', passwd='!@#$%^', host='localhost', db='news_dataset', charset=\"utf8\")\n",
    "cur = conn.cursor()\n",
    "index = 0\n",
    "models = []"
   ]
  },
  {
   "cell_type": "code",
   "execution_count": 13,
   "metadata": {
    "collapsed": false
   },
   "outputs": [],
   "source": [
    "def show(index):\n",
    "    cur.execute(\"select title from tencent \"\n",
    "                    # \"where create_time between '2017-7-28 00:00:00' and '2017-7-31 00:00:00' \"\n",
    "                    \"ORDER BY `id` DESC \"\n",
    "                    \"LIMIT %d,1\" % index\n",
    "                    )\n",
    "    data = cur.fetchone()\n",
    "    for t in data:\n",
    "        if len(t.strip()) > 0:\n",
    "            models.append(get_ltp_model(t.strip()))"
   ]
  },
  {
   "cell_type": "code",
   "execution_count": 31,
   "metadata": {
    "collapsed": false
   },
   "outputs": [
    {
     "name": "stdout",
     "output_type": "stream",
     "text": [
      "2017年\t7月\t中国\t制造业\t采购\t经理\t指数\t为\t51.4%\n",
      "nt\tnt\tns\tn\tv\tn\tn\tv\tm\n",
      "O\tO\tS-Ns\tO\tO\tO\tO\tO\tO\n",
      "2:ATT\t8:ADV\t4:ATT\t7:ATT\t7:ATT\t7:ATT\t8:SBV\t0:HED\t8:VOB\n",
      "7 TMP:(0,1)A0:(2,6)A1:(8,8)\n"
     ]
    }
   ],
   "source": [
    "show(index)\n",
    "index += 1"
   ]
  },
  {
   "cell_type": "code",
   "execution_count": 7,
   "metadata": {
    "collapsed": false
   },
   "outputs": [],
   "source": [
    "cur.close()\n",
    "conn.close()"
   ]
  },
  {
   "cell_type": "code",
   "execution_count": 8,
   "metadata": {
    "collapsed": false
   },
   "outputs": [
    {
     "data": {
      "text/plain": [
       "1"
      ]
     },
     "execution_count": 8,
     "metadata": {},
     "output_type": "execute_result"
    }
   ],
   "source": [
    "len(models)"
   ]
  },
  {
   "cell_type": "code",
   "execution_count": 9,
   "metadata": {
    "collapsed": false
   },
   "outputs": [
    {
     "data": {
      "text/plain": [
       "[<ltp_model.LTPModel at 0x141f89400>]"
      ]
     },
     "execution_count": 9,
     "metadata": {},
     "output_type": "execute_result"
    }
   ],
   "source": [
    "models"
   ]
  },
  {
   "cell_type": "code",
   "execution_count": null,
   "metadata": {
    "collapsed": true
   },
   "outputs": [],
   "source": []
  }
 ],
 "metadata": {
  "anaconda-cloud": {},
  "kernelspec": {
   "display_name": "Python [conda env:python3]",
   "language": "python",
   "name": "conda-env-python3-py"
  },
  "language_info": {
   "codemirror_mode": {
    "name": "ipython",
    "version": 3
   },
   "file_extension": ".py",
   "mimetype": "text/x-python",
   "name": "python",
   "nbconvert_exporter": "python",
   "pygments_lexer": "ipython3",
   "version": "3.6.1"
  }
 },
 "nbformat": 4,
 "nbformat_minor": 1
}
